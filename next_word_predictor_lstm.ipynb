{
  "nbformat": 4,
  "nbformat_minor": 0,
  "metadata": {
    "colab": {
      "provenance": [],
      "gpuType": "T4",
      "authorship_tag": "ABX9TyPVKlurxOIl/mP4eQRhFUf2",
      "include_colab_link": true
    },
    "kernelspec": {
      "name": "python3",
      "display_name": "Python 3"
    },
    "language_info": {
      "name": "python"
    },
    "accelerator": "GPU"
  },
  "cells": [
    {
      "cell_type": "markdown",
      "metadata": {
        "id": "view-in-github",
        "colab_type": "text"
      },
      "source": [
        "<a href=\"https://colab.research.google.com/github/m-d-nabeel/mnist-dataset/blob/main/next_word_predictor_lstm.ipynb\" target=\"_parent\"><img src=\"https://colab.research.google.com/assets/colab-badge.svg\" alt=\"Open In Colab\"/></a>"
      ]
    },
    {
      "cell_type": "code",
      "execution_count": null,
      "metadata": {
        "id": "cqE0y1jTTjL5",
        "colab": {
          "base_uri": "https://localhost:8080/"
        },
        "outputId": "54ec1b25-f89f-4a58-ce1f-33c1f1d34679"
      },
      "outputs": [
        {
          "output_type": "stream",
          "name": "stdout",
          "text": [
            "File 'next-word-dataset.txt' not found. Downloading and extracting...\n"
          ]
        }
      ],
      "source": [
        "import os\n",
        "\n",
        "file_path = \"next-word-dataset.txt\"\n",
        "dataset_path = \"ronikdedhia/next-word-prediction\"\n",
        "\n",
        "if not os.path.exists(file_path):\n",
        "  print(f\"File '{file_path}' not found. Downloading and extracting...\")\n",
        "  os.system(f\"kaggle datasets download -d {dataset_path}\")\n",
        "  os.system(\"unzip -q next-word-prediction.zip\")\n",
        "  os.system(\"mv 1661-0.txt next-word-dataset.txt\")\n",
        "  os.system(\"rm -rf 166* *.zip\")\n",
        "else:\n",
        "  print(f\"File '{file_path}' already exists. Skipping download and extraction.\")"
      ]
    },
    {
      "cell_type": "code",
      "source": [
        "import tensorflow as tf\n",
        "from tensorflow import keras\n",
        "from keras.preprocessing.text import Tokenizer\n",
        "from keras.preprocessing.sequence import pad_sequences"
      ],
      "metadata": {
        "id": "8vFn817XVU9C"
      },
      "execution_count": null,
      "outputs": []
    },
    {
      "cell_type": "code",
      "source": [
        "import re\n",
        "\n",
        "text_dataset = \"\"\n",
        "\n",
        "with open(\"/content/next-word-dataset.txt\", \"r\") as f:\n",
        "  text_dataset = f.read()\n",
        "\n",
        "text_dataset = re.sub(r'[^a-zA-Z\\s\\.\\?\\!]', '', text_dataset)\n",
        "text_dataset = text_dataset[1200:]\n",
        "\n",
        "roman_numeral_pattern = r'\\b(?:I{1,3}|IV|V|VI{1,3}|IX|X{1,3}|XL|L|LX{1,3}|XC|C{1,3}|CD|D|DC{1,3}|CM|M{1,3})\\b'\n",
        "text_dataset = re.sub(roman_numeral_pattern, '', text_dataset)\n",
        "text_dataset = text_dataset.lower()"
      ],
      "metadata": {
        "id": "-wnLr3SSuE8w"
      },
      "execution_count": null,
      "outputs": []
    },
    {
      "cell_type": "code",
      "source": [
        "tokenizer = Tokenizer()"
      ],
      "metadata": {
        "id": "cANWENwxWNUt"
      },
      "execution_count": null,
      "outputs": []
    },
    {
      "cell_type": "code",
      "source": [
        "tokenizer.fit_on_texts([text_dataset])"
      ],
      "metadata": {
        "id": "Pt0YsCZmWbXT"
      },
      "execution_count": null,
      "outputs": []
    },
    {
      "cell_type": "code",
      "source": [
        "unique_word_count = len(tokenizer.word_counts)\n",
        "print(unique_word_count)"
      ],
      "metadata": {
        "colab": {
          "base_uri": "https://localhost:8080/"
        },
        "id": "jJxnlYKRmN-I",
        "outputId": "aa10ba1a-6d70-4630-a4aa-7fc73b3ef2d8"
      },
      "execution_count": null,
      "outputs": [
        {
          "output_type": "stream",
          "name": "stdout",
          "text": [
            "8578\n"
          ]
        }
      ]
    },
    {
      "cell_type": "code",
      "source": [
        "import nltk\n",
        "nltk.download('punkt')"
      ],
      "metadata": {
        "colab": {
          "base_uri": "https://localhost:8080/"
        },
        "id": "KGVXGy2PW7Pq",
        "outputId": "d504bc96-3ed6-4d08-baf9-acefe09af03b"
      },
      "execution_count": null,
      "outputs": [
        {
          "output_type": "stream",
          "name": "stderr",
          "text": [
            "[nltk_data] Downloading package punkt to /root/nltk_data...\n",
            "[nltk_data]   Unzipping tokenizers/punkt.zip.\n"
          ]
        },
        {
          "output_type": "execute_result",
          "data": {
            "text/plain": [
              "True"
            ]
          },
          "metadata": {},
          "execution_count": 7
        }
      ]
    },
    {
      "cell_type": "code",
      "source": [
        "sentences = nltk.sent_tokenize(text_dataset)\n",
        "sentences = [sentence.replace('\\n', ' ') if len(sentence.split()) > 2 else None for sentence in sentences]\n",
        "sentences = [sentence.replace(\".\", \"\").strip() for sentence in sentences if sentence is not None]"
      ],
      "metadata": {
        "id": "7WrI96AYacXy"
      },
      "execution_count": null,
      "outputs": []
    },
    {
      "cell_type": "code",
      "source": [
        "print(len(sentences))\n",
        "print(sentences[:5])"
      ],
      "metadata": {
        "colab": {
          "base_uri": "https://localhost:8080/"
        },
        "id": "v54vQHtRbrzL",
        "outputId": "11af0fdd-fa7c-4a68-fcd4-f7124be83434"
      },
      "execution_count": null,
      "outputs": [
        {
          "output_type": "stream",
          "name": "stdout",
          "text": [
            "6301\n",
            "['a scandal in bohemia', 'to sherlock holmes she is always the woman', 'have seldom heard him mention her under any other name', 'in his eyes she eclipses and predominates the whole of her sex', 'it was not that he felt any emotion akin to love for irene adler']\n"
          ]
        }
      ]
    },
    {
      "cell_type": "code",
      "source": [
        "seqs_sentences = tokenizer.texts_to_sequences(sentences)"
      ],
      "metadata": {
        "id": "g7ExFUG2buC0"
      },
      "execution_count": null,
      "outputs": []
    },
    {
      "cell_type": "code",
      "source": [
        "seqs_sentences[4]"
      ],
      "metadata": {
        "colab": {
          "base_uri": "https://localhost:8080/"
        },
        "id": "hZnmnIBRcmg2",
        "outputId": "925d17d0-a8dc-45ef-b3f9-c7c66a66e7ee"
      },
      "execution_count": null,
      "outputs": [
        {
          "output_type": "execute_result",
          "data": {
            "text/plain": [
              "[8, 11, 22, 7, 10, 343, 85, 1815, 2504, 4, 614, 21, 674, 675]"
            ]
          },
          "metadata": {},
          "execution_count": 11
        }
      ]
    },
    {
      "cell_type": "code",
      "source": [
        "tokenizer.texts_to_sequences(['It was not that he felt any emotion akin to love for Irene Adler.'])[0]"
      ],
      "metadata": {
        "colab": {
          "base_uri": "https://localhost:8080/"
        },
        "id": "cmQhqtLucpNB",
        "outputId": "d8506e0c-1587-4dc8-99b3-e33ad0b2c6bd"
      },
      "execution_count": null,
      "outputs": [
        {
          "output_type": "execute_result",
          "data": {
            "text/plain": [
              "[8, 11, 22, 7, 10, 343, 85, 1815, 2504, 4, 614, 21, 674, 675]"
            ]
          },
          "metadata": {},
          "execution_count": 12
        }
      ]
    },
    {
      "cell_type": "code",
      "source": [
        "# # Sample data\n",
        "\n",
        "# count = 0\n",
        "# for sequence in seqs_sentences:\n",
        "#   print(sequence)\n",
        "#   count += 1\n",
        "#   if count == 5:\n",
        "#     break"
      ],
      "metadata": {
        "id": "E5gkHG6wd3Ft"
      },
      "execution_count": null,
      "outputs": []
    },
    {
      "cell_type": "code",
      "source": [
        "training_sequences = []\n",
        "\n",
        "for seq_sentence in seqs_sentences:\n",
        "  for i in range(1, len(seq_sentence)):\n",
        "    training_sequences.append(seq_sentence[:i + 1])"
      ],
      "metadata": {
        "id": "1X8NbLP5ecAI"
      },
      "execution_count": null,
      "outputs": []
    },
    {
      "cell_type": "code",
      "source": [
        "for i in range(5):\n",
        "  print(training_sequences[i])"
      ],
      "metadata": {
        "colab": {
          "base_uri": "https://localhost:8080/"
        },
        "id": "_YgBCHBkgQRZ",
        "outputId": "ec0e3974-8d05-47bc-ecce-cef4dd1e778e"
      },
      "execution_count": null,
      "outputs": [
        {
          "output_type": "stream",
          "name": "stdout",
          "text": [
            "[5, 879]\n",
            "[5, 879, 6]\n",
            "[5, 879, 6, 950]\n",
            "[4, 126]\n",
            "[4, 126, 32]\n"
          ]
        }
      ]
    },
    {
      "cell_type": "code",
      "source": [
        "max_word_len = max([len(x) for x in training_sequences])\n",
        "print(max_word_len)"
      ],
      "metadata": {
        "id": "exm9q23JgSIV",
        "colab": {
          "base_uri": "https://localhost:8080/"
        },
        "outputId": "d4a4e7cd-5714-48e0-9a7b-dadebf179fd4"
      },
      "execution_count": null,
      "outputs": [
        {
          "output_type": "stream",
          "name": "stdout",
          "text": [
            "102\n"
          ]
        }
      ]
    },
    {
      "cell_type": "code",
      "source": [
        "padded_training_sequences = pad_sequences(sequences=training_sequences, maxlen=max_word_len, padding=\"pre\")"
      ],
      "metadata": {
        "id": "cqHesjaAjtHg"
      },
      "execution_count": null,
      "outputs": []
    },
    {
      "cell_type": "code",
      "source": [
        "X = padded_training_sequences[:, :-1]\n",
        "y = padded_training_sequences[:, -1]"
      ],
      "metadata": {
        "id": "USl_qwOykyh1"
      },
      "execution_count": null,
      "outputs": []
    },
    {
      "cell_type": "code",
      "source": [
        "X"
      ],
      "metadata": {
        "colab": {
          "base_uri": "https://localhost:8080/"
        },
        "id": "xoI9VzGglCp-",
        "outputId": "54d982f0-9e52-47e0-d1dd-4e2b24266eb7"
      },
      "execution_count": null,
      "outputs": [
        {
          "output_type": "execute_result",
          "data": {
            "text/plain": [
              "array([[   0,    0,    0, ...,    0,    0,    5],\n",
              "       [   0,    0,    0, ...,    0,    5,  879],\n",
              "       [   0,    0,    0, ...,    5,  879,    6],\n",
              "       ...,\n",
              "       [   0,    0,    0, ..., 8578,    4,  336],\n",
              "       [   0,    0,    0, ...,    4,  336,   78],\n",
              "       [   0,    0,    0, ...,  336,   78,  333]], dtype=int32)"
            ]
          },
          "metadata": {},
          "execution_count": 19
        }
      ]
    },
    {
      "cell_type": "code",
      "source": [
        "y"
      ],
      "metadata": {
        "colab": {
          "base_uri": "https://localhost:8080/"
        },
        "id": "WtsOW5MclD3s",
        "outputId": "1c52a4f7-6183-4e2b-8cf0-ab114f72df4a"
      },
      "execution_count": null,
      "outputs": [
        {
          "output_type": "execute_result",
          "data": {
            "text/plain": [
              "array([ 879,    6,  950, ...,   78,  333, 1569], dtype=int32)"
            ]
          },
          "metadata": {},
          "execution_count": 20
        }
      ]
    },
    {
      "cell_type": "code",
      "source": [
        "from keras.utils import to_categorical\n",
        "\n",
        "y = to_categorical(y, num_classes = unique_word_count + 1)"
      ],
      "metadata": {
        "id": "dRdDb7HPl5ap"
      },
      "execution_count": null,
      "outputs": []
    },
    {
      "cell_type": "code",
      "source": [
        "print(X.shape)\n",
        "print(y.shape)"
      ],
      "metadata": {
        "colab": {
          "base_uri": "https://localhost:8080/"
        },
        "id": "hZOf20PemyHw",
        "outputId": "197c04a5-04a4-4a78-e533-439a2e2e732e"
      },
      "execution_count": null,
      "outputs": [
        {
          "output_type": "stream",
          "name": "stdout",
          "text": [
            "(97009, 101)\n",
            "(97009, 8579)\n"
          ]
        }
      ]
    },
    {
      "cell_type": "markdown",
      "source": [
        "## Model Building"
      ],
      "metadata": {
        "id": "7dMiA0tcnDhb"
      }
    },
    {
      "cell_type": "code",
      "source": [
        "from keras.models import Sequential\n",
        "from keras.layers import Embedding, LSTM, Dense\n",
        "from keras.optimizers import Adam\n",
        "from keras.callbacks import ModelCheckpoint"
      ],
      "metadata": {
        "id": "Qre3PIWVmzrh"
      },
      "execution_count": null,
      "outputs": []
    },
    {
      "cell_type": "code",
      "source": [
        "# from sklearn.model_selection import train_test_split\n",
        "\n",
        "# X_train, X_val, y_train, y_val = train_test_split(\n",
        "#     X, y, test_size=0.2, random_state=42\n",
        "# )"
      ],
      "metadata": {
        "id": "avjPNARrwvYE"
      },
      "execution_count": null,
      "outputs": []
    },
    {
      "cell_type": "code",
      "source": [
        "# model = Sequential()\n",
        "# optimizer = Adam()\n",
        "\n",
        "# # unique_word_count represents the number of unique words in the vocabulary\n",
        "# # The Embedding layer converts each word (integer) into a dense vector of fixed size.\n",
        "# # input_dim: size of the vocabulary (+1 is often added to handle out-of-vocabulary or padding cases)\n",
        "# # output_dim: size of the dense embedding vector for each word\n",
        "# # input_length: length of the input sequences (in words); max_word_len - 1 as the model predicts the next word\n",
        "\n",
        "# model.add(\n",
        "#     Embedding(\n",
        "#         input_dim = unique_word_count + 1,  # size of vocabulary (+1 for potential padding or OOV token)\n",
        "#         output_dim = 100,                   # dimension of the embedding vectors (each word is mapped to a 100-dimensional vector)\n",
        "#         input_length = max_word_len - 1     # length of input sequences; max_word_len - 1 because the model predicts the next word\n",
        "#     )\n",
        "# )\n",
        "\n",
        "# # The LSTM layer processes the sequence of embeddings and outputs a hidden state representation.\n",
        "# # The LSTM has 150 units, which determines the size of its internal states (ht, ct).\n",
        "# # Each unit represents a dimension in the LSTM's output and internal states.\n",
        "# model.add(LSTM(units=128))\n",
        "# model.add(LSTM(units=64))\n",
        "\n",
        "# # The Dense layer with 'unique_word_count + 1' units is used to produce a probability distribution over the vocabulary for the next word.\n",
        "# # The 'softmax' activation function normalizes these outputs to represent probabilities.\n",
        "# model.add(Dense(units=unique_word_count + 1, activation=\"softmax\"))\n",
        "\n",
        "# # Compiling the model with the Adam optimizer and categorical crossentropy loss.\n",
        "# # Categorical crossentropy is appropriate for multi-class classification problems.\n",
        "# # The model is evaluated on accuracy, which measures the fraction of correct predictions.\n",
        "# model.compile(optimizer=optimizer, loss=\"categorical_crossentropy\", metrics=[\"accuracy\"])\n"
      ],
      "metadata": {
        "id": "T_hpJphVpiCP"
      },
      "execution_count": null,
      "outputs": []
    },
    {
      "cell_type": "code",
      "source": [
        "model = Sequential([\n",
        "    Embedding(input_dim=unique_word_count + 1, output_dim=100, input_length=max_word_len - 1),\n",
        "    LSTM(units=128, return_sequences=True),\n",
        "    LSTM(units=64),\n",
        "    Dense(units=unique_word_count + 1, activation=\"softmax\")\n",
        "])\n",
        "\n",
        "optimizer = Adam()\n",
        "model.compile(optimizer=optimizer, loss=\"categorical_crossentropy\", metrics=[\"accuracy\"])"
      ],
      "metadata": {
        "id": "WaXvfqdpFra-"
      },
      "execution_count": null,
      "outputs": []
    },
    {
      "cell_type": "code",
      "source": [
        "model.summary()"
      ],
      "metadata": {
        "colab": {
          "base_uri": "https://localhost:8080/"
        },
        "id": "SvTfrxwPrD4m",
        "outputId": "3f5d379a-1a43-443c-e0a8-c932ea0ae674"
      },
      "execution_count": null,
      "outputs": [
        {
          "output_type": "stream",
          "name": "stdout",
          "text": [
            "Model: \"sequential\"\n",
            "_________________________________________________________________\n",
            " Layer (type)                Output Shape              Param #   \n",
            "=================================================================\n",
            " embedding (Embedding)       (None, 101, 100)          857900    \n",
            "                                                                 \n",
            " lstm (LSTM)                 (None, 101, 128)          117248    \n",
            "                                                                 \n",
            " lstm_1 (LSTM)               (None, 64)                49408     \n",
            "                                                                 \n",
            " dense (Dense)               (None, 8579)              557635    \n",
            "                                                                 \n",
            "=================================================================\n",
            "Total params: 1582191 (6.04 MB)\n",
            "Trainable params: 1582191 (6.04 MB)\n",
            "Non-trainable params: 0 (0.00 Byte)\n",
            "_________________________________________________________________\n"
          ]
        }
      ]
    },
    {
      "cell_type": "code",
      "source": [
        "from keras.utils import plot_model\n",
        "\n",
        "plot_model(model)"
      ],
      "metadata": {
        "colab": {
          "base_uri": "https://localhost:8080/",
          "height": 486
        },
        "id": "i4RlFO9_-m_O",
        "outputId": "eeeca06e-c2bb-46c1-d1a1-46d29b03eaa1"
      },
      "execution_count": null,
      "outputs": [
        {
          "output_type": "execute_result",
          "data": {
            "image/png": "[encoded data removed]",
            "text/plain": [
              "<IPython.core.display.Image object>"
            ]
          },
          "metadata": {},
          "execution_count": 28
        }
      ]
    },
    {
      "cell_type": "code",
      "source": [
        "checkpoint_filepath = 'model_checkpoint.h5'\n",
        "\n",
        "checkpoint_callback = ModelCheckpoint(\n",
        "    filepath=checkpoint_filepath,\n",
        "    monitor='val_accuracy',  # Monitor validation accuracy\n",
        "    save_weights_only=True,  # Save only the model weights\n",
        "    save_best_only=True,     # Save only the best model (in terms of monitored quantity)\n",
        "    mode='max',              # Maximizing validation accuracy\n",
        "    verbose=1                # Verbosity level (1: progress bar)\n",
        ")\n",
        "\n",
        "history = model.fit(\n",
        "    X, y, epochs=50,\n",
        "    validation_split=0.02,\n",
        "    callbacks=[checkpoint_callback]\n",
        ")"
      ],
      "metadata": {
        "colab": {
          "base_uri": "https://localhost:8080/"
        },
        "id": "4WAyyT1SrFmQ",
        "outputId": "20445eee-fa9e-4f0c-b42f-6fbaa6ccbcf5"
      },
      "execution_count": null,
      "outputs": [
        {
          "output_type": "stream",
          "name": "stdout",
          "text": [
            "Epoch 1/50\n",
            " 178/2971 [>.............................] - ETA: 12:13 - loss: 7.3585 - accuracy: 0.0506"
          ]
        }
      ]
    },
    {
      "cell_type": "code",
      "source": [
        "import numpy as np\n",
        "\n",
        "def predict(text):\n",
        "    # Tokenize the text\n",
        "    tokenized_text = tokenizer.texts_to_sequences([text])\n",
        "\n",
        "    # Since texts_to_sequences returns a list of lists, get the inner list\n",
        "    tokenized_text = tokenized_text[0]\n",
        "\n",
        "    # Pad the tokenized text to the specified max length\n",
        "    padded_token_text = pad_sequences([tokenized_text], maxlen=max_word_len - 1, padding=\"pre\")\n",
        "\n",
        "    # Ensure the padded_token_text is of shape (1, max_word_len) which the model expects\n",
        "    # Model expects a 2D array, not a 3D array, so ensure we have the correct dimensions\n",
        "    padded_token_text = np.array(padded_token_text)  # Convert to a NumPy array if not already\n",
        "\n",
        "    # Predict the next word's index\n",
        "    prediction = model.predict(padded_token_text)\n",
        "    idx = np.argmax(prediction)\n",
        "    for word, index in tokenizer.word_index.items():\n",
        "        if index == idx:\n",
        "            return word\n",
        "    return \"<NIL>\""
      ],
      "metadata": {
        "id": "hADfVKSKuoIS"
      },
      "execution_count": null,
      "outputs": []
    },
    {
      "cell_type": "code",
      "source": [
        "predict(\"Sherlock\")"
      ],
      "metadata": {
        "id": "PvQV0Wr_yisx"
      },
      "execution_count": null,
      "outputs": []
    },
    {
      "cell_type": "code",
      "source": [
        "model.save(\"next_word_predictor.h5\")\n",
        "model.save(\"next_word_predictor.keras\")"
      ],
      "metadata": {
        "id": "CFDm0aG2zueu"
      },
      "execution_count": null,
      "outputs": []
    },
    {
      "cell_type": "code",
      "source": [
        "def predict_N_words(text, num):\n",
        "  for i in range(num):\n",
        "    text = f\"{text} {predict(text)}\"\n",
        "  return text"
      ],
      "metadata": {
        "id": "eLFcMKu6AuvG"
      },
      "execution_count": null,
      "outputs": []
    },
    {
      "cell_type": "code",
      "source": [
        "print(predict_N_words(\"what are\", 5))"
      ],
      "metadata": {
        "id": "hpQfptJG-hz_"
      },
      "execution_count": null,
      "outputs": []
    },
    {
      "cell_type": "code",
      "source": [
        "print(predict_N_words(\"I am very sorry\", 10))"
      ],
      "metadata": {
        "id": "z7Plb6yb-khY"
      },
      "execution_count": null,
      "outputs": []
    },
    {
      "cell_type": "code",
      "source": [
        "print(predict_N_words(\"I hope\", 10))"
      ],
      "metadata": {
        "id": "HYni8-Ir_I6k"
      },
      "execution_count": null,
      "outputs": []
    },
    {
      "cell_type": "code",
      "source": [
        "import io\n",
        "import json\n",
        "\n",
        "tokenizer_json = tokenizer.to_json()\n",
        "with io.open('tokenizer.json', 'w', encoding='utf-8') as f:\n",
        "    f.write(json.dumps(tokenizer_json, ensure_ascii=False))\n",
        "\n",
        "# with open('tokenizer.json') as f:\n",
        "#     data = json.load(f)\n",
        "#     tokenizer = tokenizer_from_json(data)"
      ],
      "metadata": {
        "id": "elQCdH-a_UcB"
      },
      "execution_count": null,
      "outputs": []
    },
    {
      "cell_type": "code",
      "source": [
        "!python --version"
      ],
      "metadata": {
        "id": "dFCZSZdZ_kHu"
      },
      "execution_count": null,
      "outputs": []
    },
    {
      "cell_type": "code",
      "source": [
        "!pip show tensorflow"
      ],
      "metadata": {
        "id": "uH0wESfuMTxi"
      },
      "execution_count": null,
      "outputs": []
    },
    {
      "cell_type": "code",
      "source": [],
      "metadata": {
        "id": "U9lqoaJJREET"
      },
      "execution_count": null,
      "outputs": []
    }
  ]
}