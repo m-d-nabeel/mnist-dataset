{
  "nbformat": 4,
  "nbformat_minor": 0,
  "metadata": {
    "colab": {
      "provenance": [],
      "gpuType": "T4",
      "mount_file_id": "1vmFbiKoFzakDdqTCWdTQceAI_ZZVU_Il",
      "authorship_tag": "ABX9TyNmo5Ek3g34B00d0ZdGmate",
      "include_colab_link": true
    },
    "kernelspec": {
      "name": "python3",
      "display_name": "Python 3"
    },
    "language_info": {
      "name": "python"
    },
    "accelerator": "GPU"
  },
  "cells": [
    {
      "cell_type": "markdown",
      "metadata": {
        "id": "view-in-github",
        "colab_type": "text"
      },
      "source": [
        "<a href=\"https://colab.research.google.com/github/m-d-nabeel/mnist-dataset/blob/main/next_word_predictor_lstm.ipynb\" target=\"_parent\"><img src=\"https://colab.research.google.com/assets/colab-badge.svg\" alt=\"Open In Colab\"/></a>"
      ]
    },
    {
      "cell_type": "code",
      "execution_count": 7,
      "metadata": {
        "id": "cqE0y1jTTjL5"
      },
      "outputs": [],
      "source": [
        "# !kaggle datasets download -d ronikdedhia/next-word-prediction\n",
        "# !unzip -q next-word-prediction.zip\n",
        "# !mv 1661-0.txt next-word-dataset.txt\n",
        "# !rm -rf 166* *.zip"
      ]
    },
    {
      "cell_type": "code",
      "source": [
        "import tensorflow as tf\n",
        "from tensorflow import keras\n",
        "from keras.preprocessing.text import Tokenizer\n",
        "from keras.preprocessing.sequence import pad_sequences"
      ],
      "metadata": {
        "id": "8vFn817XVU9C"
      },
      "execution_count": 8,
      "outputs": []
    },
    {
      "cell_type": "code",
      "source": [
        "text_dataset = \"\"\"\"\"\"\n",
        "with open(\"next-word-dataset.txt\") as f:\n",
        "  text_dataset = f.read()"
      ],
      "metadata": {
        "id": "mWQr7WJJWcJD"
      },
      "execution_count": 9,
      "outputs": []
    },
    {
      "cell_type": "code",
      "source": [
        "tokenizer = Tokenizer()"
      ],
      "metadata": {
        "id": "cANWENwxWNUt"
      },
      "execution_count": 10,
      "outputs": []
    },
    {
      "cell_type": "code",
      "source": [
        "tokenizer.fit_on_texts([text_dataset])"
      ],
      "metadata": {
        "id": "Pt0YsCZmWbXT"
      },
      "execution_count": 11,
      "outputs": []
    },
    {
      "cell_type": "code",
      "source": [
        "unique_words = len(tokenizer.word_counts)\n",
        "print(unique_words)"
      ],
      "metadata": {
        "colab": {
          "base_uri": "https://localhost:8080/"
        },
        "id": "jJxnlYKRmN-I",
        "outputId": "830d0dd5-a554-4565-ab12-c0517c4377a3"
      },
      "execution_count": 12,
      "outputs": [
        {
          "output_type": "stream",
          "name": "stdout",
          "text": [
            "8931\n"
          ]
        }
      ]
    },
    {
      "cell_type": "code",
      "source": [
        "import nltk\n",
        "nltk.download('punkt')"
      ],
      "metadata": {
        "colab": {
          "base_uri": "https://localhost:8080/"
        },
        "id": "KGVXGy2PW7Pq",
        "outputId": "a3745d9d-5475-484f-f671-a62b2632a696"
      },
      "execution_count": 13,
      "outputs": [
        {
          "output_type": "stream",
          "name": "stderr",
          "text": [
            "[nltk_data] Downloading package punkt to /root/nltk_data...\n",
            "[nltk_data]   Unzipping tokenizers/punkt.zip.\n"
          ]
        },
        {
          "output_type": "execute_result",
          "data": {
            "text/plain": [
              "True"
            ]
          },
          "metadata": {},
          "execution_count": 13
        }
      ]
    },
    {
      "cell_type": "code",
      "source": [
        "sentences = nltk.sent_tokenize(text_dataset)\n",
        "sentences = [sentence.replace('\\n', ' ') for sentence in sentences]"
      ],
      "metadata": {
        "id": "7WrI96AYacXy"
      },
      "execution_count": 14,
      "outputs": []
    },
    {
      "cell_type": "code",
      "source": [
        "sentences[205]"
      ],
      "metadata": {
        "colab": {
          "base_uri": "https://localhost:8080/",
          "height": 74
        },
        "id": "v54vQHtRbrzL",
        "outputId": "d6ae54c5-72f0-49cb-f4be-adcaffddf255"
      },
      "execution_count": 72,
      "outputs": [
        {
          "output_type": "execute_result",
          "data": {
            "text/plain": [
              "'I suppose that you have been watching the habits, and perhaps the house, of Miss Irene Adler.”  “Quite so; but the sequel was rather unusual.'"
            ],
            "application/vnd.google.colaboratory.intrinsic+json": {
              "type": "string"
            }
          },
          "metadata": {},
          "execution_count": 72
        }
      ]
    },
    {
      "cell_type": "code",
      "source": [
        "seqs_sentences = tokenizer.texts_to_sequences(sentences)"
      ],
      "metadata": {
        "id": "g7ExFUG2buC0"
      },
      "execution_count": 16,
      "outputs": []
    },
    {
      "cell_type": "code",
      "source": [
        "seqs_sentences[20]"
      ],
      "metadata": {
        "colab": {
          "base_uri": "https://localhost:8080/"
        },
        "id": "hZnmnIBRcmg2",
        "outputId": "23e24479-71e6-45e6-ba84-bce30253fb44"
      },
      "execution_count": 17,
      "outputs": [
        {
          "output_type": "execute_result",
          "data": {
            "text/plain": [
              "[11, 135, 428, 4, 1, 4805, 4806, 331, 18, 5, 4807, 2, 5, 1932]"
            ]
          },
          "metadata": {},
          "execution_count": 17
        }
      ]
    },
    {
      "cell_type": "code",
      "source": [
        "tokenizer.texts_to_sequences(['He never spoke of the softer passions, save with a gibe and a sneer.'])[0]"
      ],
      "metadata": {
        "colab": {
          "base_uri": "https://localhost:8080/"
        },
        "id": "cmQhqtLucpNB",
        "outputId": "97141ba3-646d-4c74-dbc8-1f64faeb6360"
      },
      "execution_count": 18,
      "outputs": [
        {
          "output_type": "execute_result",
          "data": {
            "text/plain": [
              "[11, 135, 428, 4, 1, 4805, 4806, 331, 18, 5, 4807, 2, 5, 1932]"
            ]
          },
          "metadata": {},
          "execution_count": 18
        }
      ]
    },
    {
      "cell_type": "code",
      "source": [
        "# Sample data\n",
        "\n",
        "# count = 0\n",
        "# for sequence in seqs_sentences:\n",
        "#   print(sequence)\n",
        "#   count += 1\n",
        "#   if count == 5:\n",
        "#     break"
      ],
      "metadata": {
        "id": "E5gkHG6wd3Ft"
      },
      "execution_count": 19,
      "outputs": []
    },
    {
      "cell_type": "code",
      "source": [
        "training_sequences = []\n",
        "\n",
        "for seq_sentence in seqs_sentences:\n",
        "  for i in range(1, len(seq_sentence)):\n",
        "    training_sequences.append(seq_sentence[:i + 1])"
      ],
      "metadata": {
        "id": "1X8NbLP5ecAI"
      },
      "execution_count": 20,
      "outputs": []
    },
    {
      "cell_type": "code",
      "source": [
        "for i in range(5):\n",
        "  print(training_sequences[i])"
      ],
      "metadata": {
        "colab": {
          "base_uri": "https://localhost:8080/"
        },
        "id": "_YgBCHBkgQRZ",
        "outputId": "3a21df04-c01a-43aa-8298-9a1addddfaab"
      },
      "execution_count": 21,
      "outputs": [
        {
          "output_type": "stream",
          "name": "stdout",
          "text": [
            "[4789, 145]\n",
            "[4789, 145, 4790]\n",
            "[4789, 145, 4790, 1]\n",
            "[4789, 145, 4790, 1, 1020]\n",
            "[4789, 145, 4790, 1, 1020, 4]\n"
          ]
        }
      ]
    },
    {
      "cell_type": "code",
      "source": [
        "max_word_len = max([len(x) for x in training_sequences])\n",
        "print(max_word_len)"
      ],
      "metadata": {
        "id": "exm9q23JgSIV",
        "colab": {
          "base_uri": "https://localhost:8080/"
        },
        "outputId": "18b21214-cec4-4f2e-a6c2-f7915ff51328"
      },
      "execution_count": 22,
      "outputs": [
        {
          "output_type": "stream",
          "name": "stdout",
          "text": [
            "251\n"
          ]
        }
      ]
    },
    {
      "cell_type": "code",
      "source": [
        "padded_training_sequences = pad_sequences(sequences=training_sequences, maxlen=max_word_len, padding=\"pre\")"
      ],
      "metadata": {
        "id": "cqHesjaAjtHg"
      },
      "execution_count": 23,
      "outputs": []
    },
    {
      "cell_type": "code",
      "source": [
        "X = padded_training_sequences[:, :-1]\n",
        "y = padded_training_sequences[:, -1]"
      ],
      "metadata": {
        "id": "USl_qwOykyh1"
      },
      "execution_count": 24,
      "outputs": []
    },
    {
      "cell_type": "code",
      "source": [
        "X"
      ],
      "metadata": {
        "colab": {
          "base_uri": "https://localhost:8080/"
        },
        "id": "xoI9VzGglCp-",
        "outputId": "05c655b0-9519-40d0-e2dc-05d338b70289"
      },
      "execution_count": 25,
      "outputs": [
        {
          "output_type": "execute_result",
          "data": {
            "text/plain": [
              "array([[   0,    0,    0, ...,    0,    0, 4789],\n",
              "       [   0,    0,    0, ...,    0, 4789,  145],\n",
              "       [   0,    0,    0, ..., 4789,  145, 4790],\n",
              "       ...,\n",
              "       [   0,    0,    0, ..., 8931,    3,  360],\n",
              "       [   0,    0,    0, ...,    3,  360,   83],\n",
              "       [   0,    0,    0, ...,  360,   83,  358]], dtype=int32)"
            ]
          },
          "metadata": {},
          "execution_count": 25
        }
      ]
    },
    {
      "cell_type": "code",
      "source": [
        "y"
      ],
      "metadata": {
        "colab": {
          "base_uri": "https://localhost:8080/"
        },
        "id": "WtsOW5MclD3s",
        "outputId": "45ac49c7-950f-44dc-d756-3af701258949"
      },
      "execution_count": 26,
      "outputs": [
        {
          "output_type": "execute_result",
          "data": {
            "text/plain": [
              "array([ 145, 4790,    1, ...,   83,  358, 1673], dtype=int32)"
            ]
          },
          "metadata": {},
          "execution_count": 26
        }
      ]
    },
    {
      "cell_type": "code",
      "source": [
        "from keras.utils import to_categorical\n",
        "\n",
        "y = to_categorical(y, num_classes=unique_words+1)"
      ],
      "metadata": {
        "id": "dRdDb7HPl5ap"
      },
      "execution_count": 27,
      "outputs": []
    },
    {
      "cell_type": "code",
      "source": [
        "print(X.shape)\n",
        "print(y.shape)"
      ],
      "metadata": {
        "colab": {
          "base_uri": "https://localhost:8080/"
        },
        "id": "hZOf20PemyHw",
        "outputId": "ed421392-ddad-483f-8613-e99bc7d2b515"
      },
      "execution_count": 28,
      "outputs": [
        {
          "output_type": "stream",
          "name": "stdout",
          "text": [
            "(106419, 250)\n",
            "(106419, 8932)\n"
          ]
        }
      ]
    },
    {
      "cell_type": "markdown",
      "source": [
        "## Model Building"
      ],
      "metadata": {
        "id": "7dMiA0tcnDhb"
      }
    },
    {
      "cell_type": "code",
      "source": [
        "from keras.models import Sequential\n",
        "from keras.layers import Embedding, LSTM, Dense"
      ],
      "metadata": {
        "id": "Qre3PIWVmzrh"
      },
      "execution_count": 29,
      "outputs": []
    },
    {
      "cell_type": "code",
      "source": [
        "model = Sequential()\n",
        "\n",
        "# number of unique words as input as well as output\n",
        "# i.e. why Embedding and Dense have 8932 units\n",
        "\n",
        "model.add(Embedding(input_dim=8932, output_dim=100, input_length=max_word_len-1))\n",
        "\n",
        "# 500 dimension input to LSTM layer\n",
        "# here units specify ft(forget gate) ht(new hidden state) and ct(new cell state)\n",
        "model.add(LSTM(units=150))\n",
        "\n",
        "model.add(Dense(units=8932, activation=\"softmax\"))\n",
        "\n",
        "model.compile(optimizer=\"adam\", loss=\"categorical_crossentropy\", metrics=[\"accuracy\"])"
      ],
      "metadata": {
        "id": "T_hpJphVpiCP"
      },
      "execution_count": 30,
      "outputs": []
    },
    {
      "cell_type": "code",
      "source": [
        "model.summary()"
      ],
      "metadata": {
        "colab": {
          "base_uri": "https://localhost:8080/"
        },
        "id": "SvTfrxwPrD4m",
        "outputId": "c65359f0-6c80-48bd-a8f4-2c273cb85ecf"
      },
      "execution_count": 31,
      "outputs": [
        {
          "output_type": "stream",
          "name": "stdout",
          "text": [
            "Model: \"sequential\"\n",
            "_________________________________________________________________\n",
            " Layer (type)                Output Shape              Param #   \n",
            "=================================================================\n",
            " embedding (Embedding)       (None, 250, 100)          893200    \n",
            "                                                                 \n",
            " lstm (LSTM)                 (None, 150)               150600    \n",
            "                                                                 \n",
            " dense (Dense)               (None, 8932)              1348732   \n",
            "                                                                 \n",
            "=================================================================\n",
            "Total params: 2392532 (9.13 MB)\n",
            "Trainable params: 2392532 (9.13 MB)\n",
            "Non-trainable params: 0 (0.00 Byte)\n",
            "_________________________________________________________________\n"
          ]
        }
      ]
    },
    {
      "cell_type": "code",
      "source": [
        "from keras.utils import plot_model\n",
        "\n",
        "plot_model(model)"
      ],
      "metadata": {
        "colab": {
          "base_uri": "https://localhost:8080/",
          "height": 389
        },
        "id": "i4RlFO9_-m_O",
        "outputId": "8af444c6-cc48-408b-f0b8-74b18f7e9bdc"
      },
      "execution_count": 39,
      "outputs": [
        {
          "output_type": "execute_result",
          "data": {
            "image/png": "[encoded data removed]",
            "text/plain": [
              "<IPython.core.display.Image object>"
            ]
          },
          "metadata": {},
          "execution_count": 39
        }
      ]
    },
    {
      "cell_type": "code",
      "source": [
        "model.fit(X, y, epochs=50)"
      ],
      "metadata": {
        "colab": {
          "base_uri": "https://localhost:8080/"
        },
        "id": "4WAyyT1SrFmQ",
        "outputId": "c84d3f29-6f1d-4363-cc5a-4652bd0a234e"
      },
      "execution_count": 32,
      "outputs": [
        {
          "output_type": "stream",
          "name": "stdout",
          "text": [
            "Epoch 1/50\n",
            "3326/3326 [==============================] - 93s 27ms/step - loss: 6.2938 - accuracy: 0.0835\n",
            "Epoch 2/50\n",
            "3326/3326 [==============================] - 54s 16ms/step - loss: 5.4590 - accuracy: 0.1371\n",
            "Epoch 3/50\n",
            "3326/3326 [==============================] - 54s 16ms/step - loss: 5.0229 - accuracy: 0.1619\n",
            "Epoch 4/50\n",
            "3326/3326 [==============================] - 52s 16ms/step - loss: 4.6571 - accuracy: 0.1821\n",
            "Epoch 5/50\n",
            "3326/3326 [==============================] - 51s 15ms/step - loss: 4.3269 - accuracy: 0.2009\n",
            "Epoch 6/50\n",
            "3326/3326 [==============================] - 52s 16ms/step - loss: 4.0214 - accuracy: 0.2232\n",
            "Epoch 7/50\n",
            "3326/3326 [==============================] - 51s 15ms/step - loss: 3.7374 - accuracy: 0.2541\n",
            "Epoch 8/50\n",
            "3326/3326 [==============================] - 50s 15ms/step - loss: 3.4736 - accuracy: 0.2871\n",
            "Epoch 9/50\n",
            "3326/3326 [==============================] - 51s 15ms/step - loss: 3.2275 - accuracy: 0.3227\n",
            "Epoch 10/50\n",
            "3326/3326 [==============================] - 51s 15ms/step - loss: 3.0026 - accuracy: 0.3603\n",
            "Epoch 11/50\n",
            "3326/3326 [==============================] - 51s 15ms/step - loss: 2.7976 - accuracy: 0.3946\n",
            "Epoch 12/50\n",
            "3326/3326 [==============================] - 51s 15ms/step - loss: 2.6108 - accuracy: 0.4291\n",
            "Epoch 13/50\n",
            "3326/3326 [==============================] - 50s 15ms/step - loss: 2.4391 - accuracy: 0.4610\n",
            "Epoch 14/50\n",
            "3326/3326 [==============================] - 52s 16ms/step - loss: 2.2827 - accuracy: 0.4918\n",
            "Epoch 15/50\n",
            "3326/3326 [==============================] - 51s 15ms/step - loss: 2.1403 - accuracy: 0.5203\n",
            "Epoch 16/50\n",
            "3326/3326 [==============================] - 51s 15ms/step - loss: 2.0082 - accuracy: 0.5490\n",
            "Epoch 17/50\n",
            "3326/3326 [==============================] - 49s 15ms/step - loss: 1.8874 - accuracy: 0.5751\n",
            "Epoch 18/50\n",
            "3326/3326 [==============================] - 50s 15ms/step - loss: 1.7787 - accuracy: 0.5977\n",
            "Epoch 19/50\n",
            "3326/3326 [==============================] - 52s 16ms/step - loss: 1.6773 - accuracy: 0.6180\n",
            "Epoch 20/50\n",
            "3326/3326 [==============================] - 52s 15ms/step - loss: 1.5859 - accuracy: 0.6392\n",
            "Epoch 21/50\n",
            "3326/3326 [==============================] - 50s 15ms/step - loss: 1.5005 - accuracy: 0.6576\n",
            "Epoch 22/50\n",
            "3326/3326 [==============================] - 51s 15ms/step - loss: 1.4244 - accuracy: 0.6735\n",
            "Epoch 23/50\n",
            "3326/3326 [==============================] - 53s 16ms/step - loss: 1.3491 - accuracy: 0.6922\n",
            "Epoch 24/50\n",
            "3326/3326 [==============================] - 52s 16ms/step - loss: 1.2855 - accuracy: 0.7059\n",
            "Epoch 25/50\n",
            "3326/3326 [==============================] - 51s 15ms/step - loss: 1.2210 - accuracy: 0.7207\n",
            "Epoch 26/50\n",
            "3326/3326 [==============================] - 53s 16ms/step - loss: 1.1679 - accuracy: 0.7319\n",
            "Epoch 27/50\n",
            "3326/3326 [==============================] - 51s 15ms/step - loss: 1.1136 - accuracy: 0.7447\n",
            "Epoch 28/50\n",
            "3326/3326 [==============================] - 50s 15ms/step - loss: 1.0669 - accuracy: 0.7553\n",
            "Epoch 29/50\n",
            "3326/3326 [==============================] - 50s 15ms/step - loss: 1.0242 - accuracy: 0.7643\n",
            "Epoch 30/50\n",
            "3326/3326 [==============================] - 50s 15ms/step - loss: 0.9807 - accuracy: 0.7741\n",
            "Epoch 31/50\n",
            "3326/3326 [==============================] - 50s 15ms/step - loss: 0.9438 - accuracy: 0.7806\n",
            "Epoch 32/50\n",
            "3326/3326 [==============================] - 50s 15ms/step - loss: 0.9073 - accuracy: 0.7901\n",
            "Epoch 33/50\n",
            "3326/3326 [==============================] - 51s 15ms/step - loss: 0.8772 - accuracy: 0.7964\n",
            "Epoch 34/50\n",
            "3326/3326 [==============================] - 50s 15ms/step - loss: 0.8478 - accuracy: 0.8034\n",
            "Epoch 35/50\n",
            "3326/3326 [==============================] - 50s 15ms/step - loss: 0.8169 - accuracy: 0.8097\n",
            "Epoch 36/50\n",
            "3326/3326 [==============================] - 48s 15ms/step - loss: 0.7924 - accuracy: 0.8167\n",
            "Epoch 37/50\n",
            "3326/3326 [==============================] - 49s 15ms/step - loss: 0.7702 - accuracy: 0.8196\n",
            "Epoch 38/50\n",
            "3326/3326 [==============================] - 50s 15ms/step - loss: 0.7424 - accuracy: 0.8271\n",
            "Epoch 39/50\n",
            "3326/3326 [==============================] - 49s 15ms/step - loss: 0.7233 - accuracy: 0.8318\n",
            "Epoch 40/50\n",
            "3326/3326 [==============================] - 49s 15ms/step - loss: 0.7039 - accuracy: 0.8364\n",
            "Epoch 41/50\n",
            "3326/3326 [==============================] - 50s 15ms/step - loss: 0.6870 - accuracy: 0.8387\n",
            "Epoch 42/50\n",
            "3326/3326 [==============================] - 51s 15ms/step - loss: 0.6694 - accuracy: 0.8426\n",
            "Epoch 43/50\n",
            "3326/3326 [==============================] - 51s 15ms/step - loss: 0.6541 - accuracy: 0.8462\n",
            "Epoch 44/50\n",
            "3326/3326 [==============================] - 51s 15ms/step - loss: 0.6378 - accuracy: 0.8498\n",
            "Epoch 45/50\n",
            "3326/3326 [==============================] - 51s 15ms/step - loss: 0.6247 - accuracy: 0.8523\n",
            "Epoch 46/50\n",
            "3326/3326 [==============================] - 51s 15ms/step - loss: 0.6098 - accuracy: 0.8562\n",
            "Epoch 47/50\n",
            "3326/3326 [==============================] - 48s 14ms/step - loss: 0.5983 - accuracy: 0.8576\n",
            "Epoch 48/50\n",
            "3326/3326 [==============================] - 49s 15ms/step - loss: 0.5885 - accuracy: 0.8601\n",
            "Epoch 49/50\n",
            "3326/3326 [==============================] - 49s 15ms/step - loss: 0.5770 - accuracy: 0.8623\n",
            "Epoch 50/50\n",
            "3326/3326 [==============================] - 49s 15ms/step - loss: 0.5673 - accuracy: 0.8644\n"
          ]
        },
        {
          "output_type": "execute_result",
          "data": {
            "text/plain": [
              "<keras.src.callbacks.History at 0x792dacd1f130>"
            ]
          },
          "metadata": {},
          "execution_count": 32
        }
      ]
    },
    {
      "cell_type": "code",
      "source": [
        "import numpy as np\n",
        "\n",
        "def predict(text):\n",
        "    # Tokenize the text\n",
        "    tokenized_text = tokenizer.texts_to_sequences([text])\n",
        "\n",
        "    # Since texts_to_sequences returns a list of lists, get the inner list\n",
        "    tokenized_text = tokenized_text[0]\n",
        "\n",
        "    # Pad the tokenized text to the specified max length\n",
        "    padded_token_text = pad_sequences([tokenized_text], maxlen=max_word_len - 1, padding=\"pre\")\n",
        "\n",
        "    # Ensure the padded_token_text is of shape (1, max_word_len) which the model expects\n",
        "    # Model expects a 2D array, not a 3D array, so ensure we have the correct dimensions\n",
        "    padded_token_text = np.array(padded_token_text)  # Convert to a NumPy array if not already\n",
        "\n",
        "    # Predict the next word's index\n",
        "    prediction = model.predict(padded_token_text)\n",
        "    idx = np.argmax(prediction)\n",
        "    for word, index in tokenizer.word_index.items():\n",
        "        if index == idx:\n",
        "            return word\n",
        "    return \"<NIL>\""
      ],
      "metadata": {
        "id": "hADfVKSKuoIS"
      },
      "execution_count": 58,
      "outputs": []
    },
    {
      "cell_type": "code",
      "source": [
        "predict(\"Sherlock\")"
      ],
      "metadata": {
        "colab": {
          "base_uri": "https://localhost:8080/"
        },
        "id": "PvQV0Wr_yisx",
        "outputId": "5d5c990e-a156-45fa-a110-32dc83c6b088"
      },
      "execution_count": 34,
      "outputs": [
        {
          "output_type": "stream",
          "name": "stdout",
          "text": [
            "1/1 [==============================] - 0s 382ms/step\n",
            "holmes\n"
          ]
        }
      ]
    },
    {
      "cell_type": "code",
      "source": [
        "def predict_tops(text):\n",
        "    tokenized_text = tokenizer.texts_to_sequences([text])\n",
        "    tokenized_text = tokenized_text[0]\n",
        "    padded_token_text = pad_sequences([tokenized_text], maxlen=max_word_len, padding=\"pre\")\n",
        "    padded_token_text = np.array(padded_token_text)\n",
        "    predictions = model.predict(padded_token_text)\n",
        "    predictions = predictions.flatten()\n",
        "    top_two_indices = np.argsort(predictions)[-3:][::-1]\n",
        "    index_to_word = {index: word for word, index in tokenizer.word_index.items()}\n",
        "    top_two_words = [index_to_word[idx] for idx in top_two_indices if idx in index_to_word]\n",
        "    print(\"Top 3 predictions :\")\n",
        "    for word in top_two_words:\n",
        "        print(f\"{text} [{word}]\")"
      ],
      "metadata": {
        "id": "frF7N5nBymIK"
      },
      "execution_count": 47,
      "outputs": []
    },
    {
      "cell_type": "code",
      "source": [
        "predict_tops(\"He never spoke of the\")"
      ],
      "metadata": {
        "colab": {
          "base_uri": "https://localhost:8080/"
        },
        "id": "cmWYyBC_zYsL",
        "outputId": "3d891ce5-688d-498e-be41-1c3c11b92830"
      },
      "execution_count": 48,
      "outputs": [
        {
          "output_type": "stream",
          "name": "stdout",
          "text": [
            "1/1 [==============================] - 0s 29ms/step\n",
            "Top 3 predictions :\n",
            "He never spoke of the [softer]\n",
            "He never spoke of the [alarm]\n",
            "He never spoke of the [estate]\n"
          ]
        }
      ]
    },
    {
      "cell_type": "code",
      "source": [
        "predict_tops(\"He never spoke of the softer\")"
      ],
      "metadata": {
        "colab": {
          "base_uri": "https://localhost:8080/"
        },
        "id": "dDBLHw6czbmO",
        "outputId": "0e30d468-fa12-4202-feba-34150c577e0c"
      },
      "execution_count": 49,
      "outputs": [
        {
          "output_type": "stream",
          "name": "stdout",
          "text": [
            "1/1 [==============================] - 0s 21ms/step\n",
            "Top 3 predictions :\n",
            "He never spoke of the softer [passions]\n",
            "He never spoke of the softer [what]\n",
            "He never spoke of the softer [above]\n"
          ]
        }
      ]
    },
    {
      "cell_type": "code",
      "source": [
        "model.save(\"next_word_predictor.h5\")\n",
        "model.save(\"next_word_predictor.keras\")"
      ],
      "metadata": {
        "colab": {
          "base_uri": "https://localhost:8080/"
        },
        "id": "CFDm0aG2zueu",
        "outputId": "11fae429-1fa9-4894-9139-3fbb2b43f0c4"
      },
      "execution_count": 38,
      "outputs": [
        {
          "output_type": "stream",
          "name": "stderr",
          "text": [
            "/usr/local/lib/python3.10/dist-packages/keras/src/engine/training.py:3103: UserWarning: You are saving your model as an HDF5 file via `model.save()`. This file format is considered legacy. We recommend using instead the native Keras format, e.g. `model.save('my_model.keras')`.\n",
            "  saving_api.save_model(\n"
          ]
        }
      ]
    },
    {
      "cell_type": "code",
      "source": [
        "predict_tops(\"it is simplicity\")"
      ],
      "metadata": {
        "colab": {
          "base_uri": "https://localhost:8080/"
        },
        "id": "SLnqnTp8_0FH",
        "outputId": "e34d91dc-b6f9-472a-bc30-3a52be9a84d0"
      },
      "execution_count": 52,
      "outputs": [
        {
          "output_type": "stream",
          "name": "stdout",
          "text": [
            "1/1 [==============================] - 0s 22ms/step\n",
            "Top 3 predictions :\n",
            "it is simplicity [itself]\n",
            "it is simplicity [sherlock]\n",
            "it is simplicity [”]\n"
          ]
        }
      ]
    },
    {
      "cell_type": "code",
      "source": [
        "predict_tops(\"it is simplicity itself\")"
      ],
      "metadata": {
        "colab": {
          "base_uri": "https://localhost:8080/"
        },
        "id": "X4VAYy2Kz2Sz",
        "outputId": "ab79384d-2e8c-4173-966f-6b1fb812a6cc"
      },
      "execution_count": 53,
      "outputs": [
        {
          "output_type": "stream",
          "name": "stdout",
          "text": [
            "1/1 [==============================] - 0s 19ms/step\n",
            "Top 3 predictions :\n",
            "it is simplicity itself [”]\n",
            "it is simplicity itself [i]\n",
            "it is simplicity itself [that]\n"
          ]
        }
      ]
    },
    {
      "cell_type": "code",
      "source": [
        "predict_tops(\"it is simplicity itself that\")"
      ],
      "metadata": {
        "colab": {
          "base_uri": "https://localhost:8080/"
        },
        "id": "UFJjcoC8_n-b",
        "outputId": "53070030-a5cb-4024-ec87-7514ae883c92"
      },
      "execution_count": 54,
      "outputs": [
        {
          "output_type": "stream",
          "name": "stdout",
          "text": [
            "1/1 [==============================] - 0s 22ms/step\n",
            "Top 3 predictions :\n",
            "it is simplicity itself that [i]\n",
            "it is simplicity itself that [we]\n",
            "it is simplicity itself that [he]\n"
          ]
        }
      ]
    },
    {
      "cell_type": "code",
      "source": [
        "predict_tops(\"my eyes\")"
      ],
      "metadata": {
        "colab": {
          "base_uri": "https://localhost:8080/"
        },
        "id": "yBnIhH2M_50y",
        "outputId": "698a3b95-a7da-45e8-b96e-8b92c7cbfe9e"
      },
      "execution_count": 55,
      "outputs": [
        {
          "output_type": "stream",
          "name": "stdout",
          "text": [
            "1/1 [==============================] - 0s 21ms/step\n",
            "Top 3 predictions :\n",
            "my eyes [were]\n",
            "my eyes [twinkled]\n",
            "my eyes [caught]\n"
          ]
        }
      ]
    },
    {
      "cell_type": "code",
      "source": [
        "predict_tops(\"my eyes tell me that on the inside\")"
      ],
      "metadata": {
        "colab": {
          "base_uri": "https://localhost:8080/"
        },
        "id": "6ntUhraJ_-Ze",
        "outputId": "f12677d3-a295-4231-bb04-26d96e800692"
      },
      "execution_count": 57,
      "outputs": [
        {
          "output_type": "stream",
          "name": "stdout",
          "text": [
            "1/1 [==============================] - 0s 20ms/step\n",
            "Top 3 predictions :\n",
            "my eyes tell me that on the inside [of]\n",
            "my eyes tell me that on the inside [which]\n",
            "my eyes tell me that on the inside [side]\n"
          ]
        }
      ]
    },
    {
      "cell_type": "code",
      "source": [
        "example = \"I suppose that you have been watching\"\n",
        "for i in range(20):\n",
        "  example = f\"{example} {predict(example)}\"\n",
        "\n",
        "print(example)"
      ],
      "metadata": {
        "colab": {
          "base_uri": "https://localhost:8080/"
        },
        "id": "Oto_f9LdACTn",
        "outputId": "34bd20b6-0fdf-4bdd-fcb0-7f311bf364e6"
      },
      "execution_count": 73,
      "outputs": [
        {
          "output_type": "stream",
          "name": "stdout",
          "text": [
            "1/1 [==============================] - 0s 20ms/step\n",
            "1/1 [==============================] - 0s 19ms/step\n",
            "1/1 [==============================] - 0s 18ms/step\n",
            "1/1 [==============================] - 0s 25ms/step\n",
            "1/1 [==============================] - 0s 19ms/step\n",
            "1/1 [==============================] - 0s 20ms/step\n",
            "1/1 [==============================] - 0s 21ms/step\n",
            "1/1 [==============================] - 0s 20ms/step\n",
            "1/1 [==============================] - 0s 20ms/step\n",
            "1/1 [==============================] - 0s 20ms/step\n",
            "1/1 [==============================] - 0s 19ms/step\n",
            "1/1 [==============================] - 0s 22ms/step\n",
            "1/1 [==============================] - 0s 21ms/step\n",
            "1/1 [==============================] - 0s 22ms/step\n",
            "1/1 [==============================] - 0s 21ms/step\n",
            "1/1 [==============================] - 0s 20ms/step\n",
            "1/1 [==============================] - 0s 19ms/step\n",
            "1/1 [==============================] - 0s 25ms/step\n",
            "1/1 [==============================] - 0s 24ms/step\n",
            "1/1 [==============================] - 0s 19ms/step\n",
            "I suppose that you have been watching the habits and perhaps the house of miss irene adler certainly has a most easy man material person ” said\n"
          ]
        }
      ]
    },
    {
      "cell_type": "code",
      "source": [],
      "metadata": {
        "id": "eLFcMKu6AuvG"
      },
      "execution_count": null,
      "outputs": []
    }
  ]
}